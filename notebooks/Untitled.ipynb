{
 "cells": [
  {
   "cell_type": "code",
   "execution_count": 1,
   "metadata": {},
   "outputs": [],
   "source": [
    "import numpy as np"
   ]
  },
  {
   "cell_type": "code",
   "execution_count": null,
   "metadata": {},
   "outputs": [],
   "source": [
    "def kinematics(x0, controls, wind_environment, plane_specs, t=1):\n",
    "    \n",
    "    x, y, v, h = x0\n",
    "    a, w = controls\n",
    "    \n",
    "    wind_speed, wind_heading = wind_environment\n",
    "    plane_cross_sec, plane_mass, plane_half_length = plane_specs\n",
    "    wind_acc = wind_speed * plane_cross_sec / plane_mass\n",
    "     \n",
    "    vx = (v * np.cos(np.radians(h)))\n",
    "    vy = (v * np.sin(np.radians(h)))\n",
    "    x += t * vx\n",
    "    y += t * vy\n",
    "    x += t**2 * wind_acc * np.cos(np.radians(wind_heading))\n",
    "    y += t**2 * wind_acc * np.sin(np.radians(wind_heading))\n",
    "    \n",
    "    v += time_step * a\n",
    "    \n",
    "    # rF * sin(theta)\n",
    "    wind_torque = plane_half_length * wind_force * np.sin(np.radians(wind_heading - h))\n",
    "    # ang acc = torque / mass * radius\n",
    "    wind_w = 0.1 * time_step * (wind_torque / plane_mass) * plane_half_length\n",
    "    h += time_step * (w + wind_w)\n",
    "    \n",
    "    return np.array([x, y, v, h])\n",
    "\n",
    "\n",
    "\n",
    "P_k = \n",
    "    \n",
    "\n",
    "class KFilter(AbstractKFilter):\n",
    "    def __init__(self, A, Q, C, R, state=None):\n",
    "        self.A = A\n",
    "        self.Q = Q\n",
    "        self.C = C\n",
    "        self.R = R\n",
    "        self.s = A.shape[0]\n",
    "        self.m = C.shape[0]\n",
    "        if state is None:\n",
    "            self.state = np.zeros(self.s)\n",
    "        else:\n",
    "            self.state = state\n",
    "        self.prev_P = np.zeros((self.s, self.s))\n",
    "        self.P = np.zeros((self.s, self.s))\n",
    "        self.steady_state = False\n",
    "    \n",
    "    def predict(self):\n",
    "        self.prev_P = copy.deepcopy(self.P)\n",
    "        ### BEGIN YOUR SOLUTION\n",
    "        self.state = self.A@self.state\n",
    "        self.P = self.A@self.prev_P@self.A.T + self.Q\n",
    "        ### END YOUR SOLUTION\n",
    "        \n",
    "    def update(self, measurement):\n",
    "        if not self.steady_state:\n",
    "            ### BEGIN YOUR SOLUTION\n",
    "            self.K = self.P@self.C.T@np.linalg.inv(self.C@self.P@self.C.T + self.R)\n",
    "            self.P = (np.identity(self.s) - self.K@self.C)@self.P\n",
    "            ### END YOUR SOLUTION\n",
    "            if np.allclose(self.P, self.prev_P):\n",
    "                self.steady_state = True\n",
    "        ### BEGIN YOUR SOLUTION\n",
    "        innovation = measurement - self.C@self.state\n",
    "        self.state = self.state + self.K@innovation\n",
    "        ### END YOUR SOLUTION\n",
    "        \n"
   ]
  }
 ],
 "metadata": {
  "kernelspec": {
   "display_name": "Python 3",
   "language": "python",
   "name": "python3"
  },
  "language_info": {
   "codemirror_mode": {
    "name": "ipython",
    "version": 3
   },
   "file_extension": ".py",
   "mimetype": "text/x-python",
   "name": "python",
   "nbconvert_exporter": "python",
   "pygments_lexer": "ipython3",
   "version": "3.8.2"
  }
 },
 "nbformat": 4,
 "nbformat_minor": 4
}
