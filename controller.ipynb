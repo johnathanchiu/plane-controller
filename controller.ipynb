{
 "cells": [
  {
   "cell_type": "code",
   "execution_count": 1,
   "metadata": {},
   "outputs": [],
   "source": [
    "### dependencies ###\n",
    "# !pip install cvxpy\n",
    "# !pip install mystic"
   ]
  },
  {
   "cell_type": "code",
   "execution_count": 2,
   "metadata": {},
   "outputs": [],
   "source": [
    "%matplotlib inline\n",
    "\n",
    "import cvxpy as cp\n",
    "import numpy as np\n",
    "\n",
    "import scipy.optimize as opt\n",
    "\n",
    "import random\n",
    "\n",
    "import matplotlib.pyplot as plt\n",
    "import matplotlib.cm as cm"
   ]
  },
  {
   "cell_type": "code",
   "execution_count": 3,
   "metadata": {},
   "outputs": [],
   "source": [
    "# # verify runway plot\n",
    "\n",
    "# t_sim = 10 # seconds\n",
    "\n",
    "# center_line_x = np.zeros((t_sim,))\n",
    "# left_boundary_x = np.ones((t_sim,)) * -10\n",
    "# right_boundary_x = np.ones((t_sim)) * 10\n",
    "\n",
    "# center_line_y = np.linspace(0, t_sim, t_sim)\n",
    "# left_boundary_y = np.linspace(0, t_sim, t_sim)\n",
    "# right_boundary_y = np.linspace(0, t_sim, t_sim)\n",
    "\n",
    "# plt.figure(figsize=(20, 3))\n",
    "# plt.plot(center_line_y, center_line_x, color='gold', linestyle='--')\n",
    "# plt.plot(left_boundary_y, left_boundary_x, color='black')\n",
    "# plt.plot(right_boundary_y, right_boundary_x, color='black')"
   ]
  },
  {
   "cell_type": "code",
   "execution_count": 4,
   "metadata": {},
   "outputs": [],
   "source": [
    "### function to plot trajectory ###\n",
    "\n",
    "def plot_trajectory(states, runway_length=(-100, 100), runway_boundaries=(-10, 10)):\n",
    "    runway_direction = -90\n",
    "\n",
    "    center_line_x = np.zeros((runway_length[1] - runway_length[0],))\n",
    "    left_boundary_x = np.ones((runway_length[1] - runway_length[0],)) * runway_boundaries[0]\n",
    "    right_boundary_x = np.ones((runway_length[1] - runway_length[0])) * runway_boundaries[1]\n",
    "\n",
    "    center_line_y = np.linspace(runway_length[0], runway_length[1], runway_length[1] - runway_length[0])\n",
    "    left_boundary_y = np.linspace(runway_length[0], runway_length[1], runway_length[1] - runway_length[0])\n",
    "    right_boundary_y = np.linspace(runway_length[0], runway_length[1], runway_length[1] - runway_length[0])\n",
    "\n",
    "    plt.figure(figsize=(20, 3))\n",
    "    plt.plot(center_line_y, center_line_x, color='gold', linestyle='--')\n",
    "    plt.plot(left_boundary_y, left_boundary_x, color='black')\n",
    "    plt.plot(right_boundary_y, right_boundary_x, color='black')\n",
    "    \n",
    "    colors = cm.rainbow(np.linspace(0, 1, int(len(states)//6)))\n",
    "    for i in range(0, len(states), 6):\n",
    "        x, y, _, h, _, _ = states[i:i+6]\n",
    "        plt.plot(y, x, marker=(3, 0, runway_direction + h), markersize=10, color=colors[int(i//6)])\n",
    "        \n",
    "\n",
    "### print states after getting result ###\n",
    "        \n",
    "def print_states(states):\n",
    "    for i in range(0, len(states), 6):\n",
    "        print(\"state {}:\".format(int(i//6) + 1))\n",
    "        output_states = np.round(states[i:i+6], 5)\n",
    "        print(\"\\tx: {}, y: {}, velocity: {}, heading: {}\\n\\tacceleration: {}, angular velocity: {}\\n\".\\\n",
    "              format(output_states[0], output_states[1], output_states[2], output_states[3], \n",
    "                     output_states[4], output_states[5]))"
   ]
  },
  {
   "cell_type": "code",
   "execution_count": 31,
   "metadata": {},
   "outputs": [],
   "source": [
    "### states setup ###\n",
    "\n",
    "init_heading = 0 # degrees\n",
    "init_velocity = 0 # m/s\n",
    "\n",
    "init_acceleration = 0 # m/s^2\n",
    "init_turning = 0 # degrees/s\n",
    "\n",
    "# start here at t = 0\n",
    "init_x = 0\n",
    "init_y = 0\n",
    "\n",
    "# want to end here at t = sim_time\n",
    "desired_x = 0\n",
    "desired_y = 1\n",
    "\n",
    "desired_velocity = 1 # m/s\n",
    "\n",
    "# acceleration_constraint = 10 # m/s^2\n",
    "# turning_constraint = 5 # degrees\n",
    "\n",
    "time_step = 0.5\n",
    "sim_time = 5\n",
    "\n",
    "n_variables = 6\n",
    "guess_range = (0, 3)"
   ]
  },
  {
   "cell_type": "code",
   "execution_count": 40,
   "metadata": {},
   "outputs": [
    {
     "data": {
      "text/plain": [
       "     fun: 6.348580542569637\n",
       "     jac: array([ 0.00000000e+00,  0.00000000e+00,  0.00000000e+00,  0.00000000e+00,\n",
       "       -8.04278126e-03, -8.02464943e-03, -4.02325883e-01,  0.00000000e+00,\n",
       "       -1.20800575e+00,  0.00000000e+00, -7.66338362e-01, -1.21331643e+00,\n",
       "        1.18171717e-02,  0.00000000e+00, -1.98470943e+00,  0.00000000e+00,\n",
       "        3.97777587e-01, -7.33061236e-01, -7.72936811e-03,  0.00000000e+00,\n",
       "       -1.59034584e+00,  0.00000000e+00,  1.53583315e+00, -2.87857358e-01,\n",
       "        2.79034469e+00, -9.33954494e+00, -2.11111047e+00,  0.00000000e+00,\n",
       "        0.00000000e+00,  0.00000000e+00])\n",
       " message: 'Iteration limit exceeded'\n",
       "    nfev: 41727\n",
       "     nit: 1001\n",
       "    njev: 1001\n",
       "  status: 9\n",
       " success: False\n",
       "       x: array([-3.67467179e-03, -8.86509798e-03, -4.61948982e-03, -8.59703908e-03,\n",
       "       -1.30427813e-02, -1.30246494e-02, -2.06162942e-01,  4.89537525e-01,\n",
       "        3.90997126e-01,  4.12370291e-01, -7.71338362e-01, -1.21831643e+00,\n",
       "        9.08585865e-04,  5.37876446e-01,  2.64528729e-03, -1.96012348e-01,\n",
       "        3.92777587e-01, -7.38061236e-01, -8.86468406e-03,  6.30564679e-01,\n",
       "        1.99827080e-01, -5.65759973e-01,  1.53083315e+00, -2.92857358e-01,\n",
       "        4.27193925e-02,  8.40943108e-01,  9.59413983e-01, -7.14008056e-01,\n",
       "        1.00000000e+00,  1.00000000e+00])"
      ]
     },
     "execution_count": 40,
     "metadata": {},
     "output_type": "execute_result"
    }
   ],
   "source": [
    "def shape_states(variables):\n",
    "    states = variables[:4]\n",
    "    controls = np.concatenate(([0, 0], variables[4:6]))\n",
    "    controls[0] = states[2] * np.cos(np.radians(states[3]))\n",
    "    controls[1] = states[2] * np.sin(np.radians(states[3]))\n",
    "    return states, controls\n",
    "\n",
    "\n",
    "def formulate_objective(desired_x, desired_y, desired_v, state_weight=0.5, control_weight=0.5, \n",
    "                        constraint_weight=0.5):\n",
    "    def objective(params):\n",
    "        cost = 0\n",
    "        cost += control_weight * np.linalg.norm(np.vstack([params[4], params[5]]), ord=2) ** 2\n",
    "        for i in range(6, len(params) - 6, 6):\n",
    "            px, py, v, h, a, w = params[i:i+6]\n",
    "            cost += constraint_weight * np.linalg.norm([px], ord=2) ** 2\n",
    "            cost += control_weight * np.linalg.norm(np.vstack([a, w]), ord=2) ** 2\n",
    "            cost += np.linalg.norm([desired_v - v], ord=2) ** 2\n",
    "        px, py, v, h, a, w = params[-6:]\n",
    "        cost += state_weight * np.linalg.norm(np.vstack([desired_x - px, desired_y - py, desired_v - v]), ord=2)\n",
    "        return cost\n",
    "    return objective\n",
    "\n",
    "\n",
    "def formulate_constraints(state0, sim_time, ts=1):\n",
    "    def dynamic_constraints(params):\n",
    "        errors = np.zeros((sim_time,))\n",
    "        states_t, controls_t = shape_states(state0)\n",
    "        errors[0] = np.linalg.norm(params[:4] - states_t, ord=2)\n",
    "        \n",
    "        for i in range(6, len(params), 6):    \n",
    "            states_t1, controls_t1 = shape_states(params[i:i+6])\n",
    "            #error[t+1] = norm(x_(t+1) - f(x_t, u_t))\n",
    "            errors[int(i // 6)] = np.linalg.norm(states_t1 - (states_t + ts * controls_t), ord=2)\n",
    "            states_t, controls_t = states_t1, controls_t1\n",
    "\n",
    "        return np.sum(errors)\n",
    "    return dynamic_constraints\n",
    "\n",
    "\n",
    "def formulate_guess(state0, sim_time, random_seed=0, ts=1):\n",
    "    \n",
    "    guess_a = random.randint(guess_range[0], guess_range[1])\n",
    "    guess_w = random.randint(guess_range[0], guess_range[1])\n",
    "    state0_controlled = state0 + [guess_a, guess_w]\n",
    "    init_state = state0_controlled[:]\n",
    "    ix, iy, iv, ih, ia, iw = init_state\n",
    "    \n",
    "    for _ in range(sim_time - 1):\n",
    "        \n",
    "        new_x = ix + ts * iv * np.cos(np.radians(ih))\n",
    "        new_y = iy + ts * iv * np.sin(np.radians(ih))\n",
    "        new_v = iv + ts * ia\n",
    "        new_h = ih + ts * iw\n",
    "        guess_a = random.randint(guess_range[0], guess_range[1])\n",
    "        guess_w = random.randint(guess_range[0], guess_range[1])\n",
    "        init_state += [new_x, new_y, new_v, new_h, guess_a, guess_w]\n",
    "        \n",
    "        ix, iy, iv, ih, ia, iw = new_x, new_y, new_v, new_h, guess_a, guess_w\n",
    "        \n",
    "    return state0_controlled, np.array(init_state)\n",
    "    \n",
    "    \n",
    "state0 = [init_x, init_y, init_velocity, init_heading]\n",
    "state0, init_guess = formulate_guess(state0, sim_time, ts=time_step)\n",
    "\n",
    "con = formulate_constraints(state0, sim_time, ts=time_step)\n",
    "obj = formulate_objective(desired_x, desired_y, desired_velocity, state_weight=10, \n",
    "                          constraint_weight=1, control_weight=0.5)\n",
    "\n",
    "result = opt.minimize(obj, init_guess, method='SLSQP', constraints={\"fun\": con, \"type\": \"eq\"}, \n",
    "                      options={'eps': 0.01, 'maxiter': 1000})\n",
    "result"
   ]
  },
  {
   "cell_type": "code",
   "execution_count": 41,
   "metadata": {},
   "outputs": [
    {
     "name": "stdout",
     "output_type": "stream",
     "text": [
      "errors: [0.         0.6329301  0.00234445 0.00871621 0.04704772] \n",
      "\n",
      "state 1:\n",
      "\tx: -0.00367, y: -0.00887, velocity: -0.00462, heading: -0.0086\n",
      "\tacceleration: -0.01304, angular velocity: -0.01302\n",
      "\n",
      "state 2:\n",
      "\tx: -0.20616, y: 0.48954, velocity: 0.391, heading: 0.41237\n",
      "\tacceleration: -0.77134, angular velocity: -1.21832\n",
      "\n",
      "state 3:\n",
      "\tx: 0.00091, y: 0.53788, velocity: 0.00265, heading: -0.19601\n",
      "\tacceleration: 0.39278, angular velocity: -0.73806\n",
      "\n",
      "state 4:\n",
      "\tx: -0.00886, y: 0.63056, velocity: 0.19983, heading: -0.56576\n",
      "\tacceleration: 1.53083, angular velocity: -0.29286\n",
      "\n",
      "state 5:\n",
      "\tx: 0.04272, y: 0.84094, velocity: 0.95941, heading: -0.71401\n",
      "\tacceleration: 1.0, angular velocity: 1.0\n",
      "\n"
     ]
    },
    {
     "data": {
      "image/png": "[encoded data removed]",
      "text/plain": [
       "<Figure size 1440x216 with 1 Axes>"
      ]
     },
     "metadata": {
      "needs_background": "light"
     },
     "output_type": "display_data"
    },
    {
     "data": {
      "image/png": "[encoded data removed]",
      "text/plain": [
       "<Figure size 1440x216 with 1 Axes>"
      ]
     },
     "metadata": {
      "needs_background": "light"
     },
     "output_type": "display_data"
    }
   ],
   "source": [
    "def get_controls(variables):\n",
    "    controls = []\n",
    "    for i in range(0, len(variables), 6):\n",
    "        controls.append(variables[i+4])\n",
    "        controls.append(variables[i+5])\n",
    "    return controls\n",
    "\n",
    "### verification for constraints ###\n",
    "\n",
    "def verify_output(state0, params, sim_time, ts=1):\n",
    "    errors = np.zeros((sim_time,))\n",
    "    init_states, init_controls = shape_states(params[:6])\n",
    "    errors[0] = np.linalg.norm(params[:4] - init_states, ord=2) ** 2\n",
    "\n",
    "    for i in range(6, len(params), 6):    \n",
    "        next_states, next_controls = shape_states(params[i:i+6])\n",
    "        errors[int(i // 6)] = np.linalg.norm(next_states - (init_states + ts * init_controls), ord=2) ** 2\n",
    "        init_states, init_controls = next_states, next_controls\n",
    "\n",
    "    return errors\n",
    "\n",
    "print(\"errors:\", verify_output(state0, result.x, sim_time, ts=time_step), \"\\n\")\n",
    "\n",
    "plot_trajectory(init_guess, runway_length=(-10, 10), runway_boundaries=(-30, 30))\n",
    "plot_trajectory(result.x, runway_length=(-10, 10), runway_boundaries=(-30, 30))\n",
    "        \n",
    "print_states(result.x)"
   ]
  },
  {
   "cell_type": "code",
   "execution_count": null,
   "metadata": {},
   "outputs": [],
   "source": []
  }
 ],
 "metadata": {
  "kernelspec": {
   "display_name": "Python 3",
   "language": "python",
   "name": "python3"
  },
  "language_info": {
   "codemirror_mode": {
    "name": "ipython",
    "version": 3
   },
   "file_extension": ".py",
   "mimetype": "text/x-python",
   "name": "python",
   "nbconvert_exporter": "python",
   "pygments_lexer": "ipython3",
   "version": "3.8.2"
  }
 },
 "nbformat": 4,
 "nbformat_minor": 2
}
