{
 "cells": [
  {
   "cell_type": "code",
   "execution_count": 1,
   "metadata": {},
   "outputs": [],
   "source": [
    "### dependencies ###\n",
    "# !pip install cvxpy\n",
    "# !pip install mystic"
   ]
  },
  {
   "cell_type": "code",
   "execution_count": 2,
   "metadata": {},
   "outputs": [],
   "source": [
    "%matplotlib inline\n",
    "\n",
    "# import cvxpy as cp\n",
    "import numpy as np\n",
    "\n",
    "import scipy.optimize as opt\n",
    "\n",
    "import random\n",
    "\n",
    "import matplotlib.pyplot as plt\n",
    "import matplotlib.cm as cm"
   ]
  },
  {
   "cell_type": "code",
   "execution_count": 3,
   "metadata": {},
   "outputs": [],
   "source": [
    "# # verify runway plot\n",
    "\n",
    "# t_sim = 10 # seconds\n",
    "\n",
    "# center_line_x = np.zeros((t_sim,))\n",
    "# left_boundary_x = np.ones((t_sim,)) * -10\n",
    "# right_boundary_x = np.ones((t_sim)) * 10\n",
    "\n",
    "# center_line_y = np.linspace(0, t_sim, t_sim)\n",
    "# left_boundary_y = np.linspace(0, t_sim, t_sim)\n",
    "# right_boundary_y = np.linspace(0, t_sim, t_sim)\n",
    "\n",
    "# plt.figure(figsize=(20, 3))\n",
    "# plt.plot(center_line_y, center_line_x, color='gold', linestyle='--')\n",
    "# plt.plot(left_boundary_y, left_boundary_x, color='black')\n",
    "# plt.plot(right_boundary_y, right_boundary_x, color='black')"
   ]
  },
  {
   "cell_type": "code",
   "execution_count": 4,
   "metadata": {},
   "outputs": [],
   "source": [
    "### function to plot trajectory ###\n",
    "\n",
    "def plot_trajectory(states, runway_length=(-100, 100), runway_boundaries=(-10, 10)):\n",
    "\n",
    "    center_line_x = np.zeros((runway_length[1] - runway_length[0],))\n",
    "    left_boundary_x = np.ones((runway_length[1] - runway_length[0],)) * runway_boundaries[0]\n",
    "    right_boundary_x = np.ones((runway_length[1] - runway_length[0])) * runway_boundaries[1]\n",
    "\n",
    "    center_line_y = np.linspace(runway_length[0], runway_length[1], runway_length[1] - runway_length[0])\n",
    "    left_boundary_y = np.linspace(runway_length[0], runway_length[1], runway_length[1] - runway_length[0])\n",
    "    right_boundary_y = np.linspace(runway_length[0], runway_length[1], runway_length[1] - runway_length[0])\n",
    "\n",
    "    plt.figure(figsize=(20, 3))\n",
    "    plt.plot(center_line_y, center_line_x, color='gold', linestyle='--')\n",
    "    plt.plot(left_boundary_y, left_boundary_x, color='black')\n",
    "    plt.plot(right_boundary_y, right_boundary_x, color='black')\n",
    "    \n",
    "    colors = cm.rainbow(np.linspace(0, 1, int(len(states)//6)))\n",
    "    for i in range(0, len(states), 6):\n",
    "        x, y, _, h, _, _ = states[i:i+6]\n",
    "        plt.plot(y, -x, marker='o', markersize=5, color=colors[int(i//6)])   \n",
    "\n",
    "### print states after getting result ###\n",
    "        \n",
    "def print_states(states):\n",
    "    for i in range(0, len(states), 6):\n",
    "        print(\"state {}:\".format(int(i//6) + 1))\n",
    "        output_states = np.round(states[i:i+6], 5)\n",
    "        print(\"\\tx: {}, y: {}, velocity: {}, heading: {}\\n\\tacceleration: {}, angular velocity: {}\\n\".\\\n",
    "              format(output_states[0], output_states[1], output_states[2], output_states[3], \n",
    "                     output_states[4], output_states[5]))"
   ]
  },
  {
   "cell_type": "markdown",
   "metadata": {},
   "source": [
    "***Controller Optimzed Over Controls***"
   ]
  },
  {
   "cell_type": "code",
   "execution_count": 5,
   "metadata": {},
   "outputs": [],
   "source": [
    "### states setup ###\n",
    "\n",
    "init_heading = 90 # degrees\n",
    "init_velocity = 0 # m/s\n",
    "\n",
    "init_acceleration = 0 # m/s^2\n",
    "init_turning = 0 # degrees/s\n",
    "\n",
    "# start here at t = 0\n",
    "init_x = 0\n",
    "init_y = 0\n",
    "\n",
    "# want to end here at t = sim_time\n",
    "desired_x = 0\n",
    "desired_y = 100\n",
    "\n",
    "desired_velocity = 30 # m/s\n",
    "\n",
    "acc_bounds = 5 # m/s^2\n",
    "turning_bounds = 5 # degrees\n",
    "\n",
    "time_step = 1\n",
    "sim_time = 10\n",
    "\n",
    "guess_range = (0, 10)"
   ]
  },
  {
   "cell_type": "code",
   "execution_count": 14,
   "metadata": {},
   "outputs": [
    {
     "data": {
      "text/plain": [
       "     fun: 634.8188756846096\n",
       "     jac: array([-1.91813332e+00,  4.35081746e-02, -7.30491745e-02,  3.62691706e-02,\n",
       "       -6.94026176e-02,  2.41330720e-02, -6.69954493e-02,  1.25719660e-02,\n",
       "       -6.05185403e-02,  5.09290179e-03, -4.99575572e-02,  3.46073906e-03,\n",
       "       -3.82230836e-02,  6.94243805e-03, -8.05817102e-01,  7.13224792e-03,\n",
       "       -4.25050055e+00,  6.16885684e-03,  0.00000000e+00,  0.00000000e+00])\n",
       " message: 'Optimization terminated successfully.'\n",
       "    nfev: 328\n",
       "     nit: 14\n",
       "    njev: 14\n",
       "  status: 0\n",
       " success: True\n",
       "       x: array([ 5.00000000e+00, -1.83023435e-03,  3.87048049e+00, -4.95932689e-04,\n",
       "        1.87528321e+00, -3.67244259e-04,  8.27807779e-01, -1.40985896e-03,\n",
       "        7.10548420e-01, -1.92866755e-03,  1.50480831e+00,  1.06884440e-04,\n",
       "        3.19543440e+00,  4.80725786e-03,  5.00000000e+00,  4.38291252e-03,\n",
       "        5.00000000e+00,  1.16885683e-03,  5.00000000e+00,  1.00000000e+00])"
      ]
     },
     "execution_count": 14,
     "metadata": {},
     "output_type": "execute_result"
    }
   ],
   "source": [
    "def compute_states(init_state, controls, time_step=1):\n",
    "    states = []\n",
    "    x, y, v, h = init_state\n",
    "    for i in range(0, len(controls), 2):\n",
    "        a, w = controls[i:i+2]\n",
    "        states = np.concatenate((states, [x, y, v, h, a, w]))\n",
    "        x += v * time_step * np.cos(np.radians(h))\n",
    "        y += v * time_step * np.sin(np.radians(h))\n",
    "        v += a * time_step\n",
    "        h += w * time_step\n",
    "    return states\n",
    "\n",
    "\n",
    "def formulate_objective(init_states, desired_states, time_step=1, state_weight=0.1, \n",
    "                        control_weight=0.1, constraint_weight=0.1, dstate_weight=0.001):\n",
    "    desired_x, desired_y, desired_v = desired_states\n",
    "    def objective(params):\n",
    "        states = compute_states(init_states, params, time_step=time_step)\n",
    "        cost = control_weight * np.linalg.norm(np.vstack([params[0], params[1]]), ord=2) ** 2\n",
    "        for i in range(6, len(states) - 6, 6):\n",
    "            px, py, v, h, a, w = states[i:i+6]\n",
    "            cost += constraint_weight * np.linalg.norm([px], ord=2) ** 2\n",
    "            cost += control_weight * np.linalg.norm(np.vstack([a, w]), ord=2) ** 2\n",
    "            cost += state_weight * np.linalg.norm(np.vstack([desired_x - px, desired_y - py, desired_v - v]), ord=2)\n",
    "        px, py, v, h, a, w = states[-6:]\n",
    "        cost += dstate_weight * np.linalg.norm(np.vstack([desired_x - px, desired_y - py, desired_v - v]), ord=2)\n",
    "        return cost\n",
    "    return objective\n",
    "\n",
    "\n",
    "def formulate_guess(sim_time, ts=1, random_seed=0):\n",
    "    if random_seed:\n",
    "        np.random.seed(random_seed)\n",
    "    return np.random.randint(guess_range[0], guess_range[1], size=sim_time*2)\n",
    "    \n",
    "    \n",
    "state0 = [init_x, init_y, init_velocity, init_heading]\n",
    "init_guess = formulate_guess(sim_time)\n",
    "bounds = [(-acc_bounds, acc_bounds), (-turning_bounds, turning_bounds)] * sim_time\n",
    "\n",
    "obj = formulate_objective(state0, [desired_x, desired_y, desired_velocity], time_step=time_step, \n",
    "                          state_weight=1, constraint_weight=1, control_weight=0.5, dstate_weight=10)\n",
    "\n",
    "result = opt.minimize(obj, init_guess, method='SLSQP', bounds=bounds,\n",
    "                      options={'eps': 0.01, 'maxiter': 1000})\n",
    "result"
   ]
  },
  {
   "cell_type": "code",
   "execution_count": 15,
   "metadata": {},
   "outputs": [
    {
     "name": "stdout",
     "output_type": "stream",
     "text": [
      "state 1:\n",
      "\tx: 0.0, y: 0.0, velocity: 0.0, heading: 90.0\n",
      "\tacceleration: 5.0, angular velocity: -0.00183\n",
      "\n",
      "state 2:\n",
      "\tx: 0.0, y: 0.0, velocity: 5.0, heading: 89.99817\n",
      "\tacceleration: 3.87048, angular velocity: -0.0005\n",
      "\n",
      "state 3:\n",
      "\tx: 0.00016, y: 5.0, velocity: 8.87048, heading: 89.99767\n",
      "\tacceleration: 1.87528, angular velocity: -0.00037\n",
      "\n",
      "state 4:\n",
      "\tx: 0.00052, y: 13.87048, velocity: 10.74576, heading: 89.99731\n",
      "\tacceleration: 0.82781, angular velocity: -0.00141\n",
      "\n",
      "state 5:\n",
      "\tx: 0.00102, y: 24.61624, velocity: 11.57357, heading: 89.9959\n",
      "\tacceleration: 0.71055, angular velocity: -0.00193\n",
      "\n",
      "state 6:\n",
      "\tx: 0.00185, y: 36.18982, velocity: 12.28412, heading: 89.99397\n",
      "\tacceleration: 1.50481, angular velocity: 0.00011\n",
      "\n",
      "state 7:\n",
      "\tx: 0.00315, y: 48.47394, velocity: 13.78893, heading: 89.99407\n",
      "\tacceleration: 3.19543, angular velocity: 0.00481\n",
      "\n",
      "state 8:\n",
      "\tx: 0.00457, y: 62.26286, velocity: 16.98436, heading: 89.99888\n",
      "\tacceleration: 5.0, angular velocity: 0.00438\n",
      "\n",
      "state 9:\n",
      "\tx: 0.0049, y: 79.24723, velocity: 21.98436, heading: 90.00327\n",
      "\tacceleration: 5.0, angular velocity: 0.00117\n",
      "\n",
      "state 10:\n",
      "\tx: 0.00365, y: 101.23159, velocity: 26.98436, heading: 90.00443\n",
      "\tacceleration: 5.0, angular velocity: 1.0\n",
      "\n"
     ]
    },
    {
     "data": {
      "image/png": "[encoded data removed]",
      "text/plain": [
       "<Figure size 1440x216 with 1 Axes>"
      ]
     },
     "metadata": {
      "needs_background": "light"
     },
     "output_type": "display_data"
    },
    {
     "data": {
      "image/png": "[encoded data removed]",
      "text/plain": [
       "<Figure size 1440x216 with 1 Axes>"
      ]
     },
     "metadata": {
      "needs_background": "light"
     },
     "output_type": "display_data"
    }
   ],
   "source": [
    "guess_traj = compute_states(state0, init_guess)\n",
    "solved_traj = compute_states(state0, result.x)\n",
    "\n",
    "plot_trajectory(guess_traj, runway_length=(-500, 500), runway_boundaries=(-30, 30))\n",
    "plot_trajectory(solved_traj, runway_length=(-500, 500), runway_boundaries=(-30, 30))\n",
    " \n",
    "print_states(solved_traj)"
   ]
  },
  {
   "cell_type": "markdown",
   "metadata": {},
   "source": [
    "***Controller Optimized Over States***"
   ]
  },
  {
   "cell_type": "code",
   "execution_count": 43,
   "metadata": {},
   "outputs": [],
   "source": [
    "### states setup ###\n",
    "\n",
    "init_heading = 90 # degrees\n",
    "init_velocity = 0 # m/s\n",
    "\n",
    "init_acceleration = 0 # m/s^2\n",
    "init_turning = 0 # degrees/s\n",
    "\n",
    "# start here at t = 0\n",
    "init_x = 0\n",
    "init_y = 0\n",
    "\n",
    "# want to end here at t = sim_time\n",
    "desired_x = 0\n",
    "desired_y = 20\n",
    "\n",
    "desired_velocity = 10 # m/s\n",
    "\n",
    "# acceleration_constraint = 10 # m/s^2\n",
    "# turning_constraint = 5 # degrees\n",
    "\n",
    "time_step = 1\n",
    "sim_time = 5\n",
    "\n",
    "guess_range = (0, 3)"
   ]
  },
  {
   "cell_type": "code",
   "execution_count": 44,
   "metadata": {},
   "outputs": [
    {
     "data": {
      "text/plain": [
       "     fun: 66.74576419064655\n",
       "     jac: array([ 0.00000000e+00,  0.00000000e+00,  0.00000000e+00,  0.00000000e+00,\n",
       "       -1.34002248e-05, -5.50331305e-04, -3.16037075e+00,  0.00000000e+00,\n",
       "       -1.06473561e+01,  0.00000000e+00,  3.52889111e+00, -5.17308062e+00,\n",
       "       -3.60055692e+00,  0.00000000e+00, -3.04783560e+00,  0.00000000e+00,\n",
       "        1.60234518e-01, -1.61390529e+00, -1.84653203e+00,  0.00000000e+00,\n",
       "       -2.85643273e+00,  0.00000000e+00,  1.33799198e+00, -1.54680553e+00,\n",
       "        5.60594314e+00, -5.84955364e+00, -4.27389594e+00,  0.00000000e+00,\n",
       "        0.00000000e+00,  0.00000000e+00])\n",
       " message: 'Iteration limit exceeded'\n",
       "    nfev: 20443\n",
       "     nit: 501\n",
       "    njev: 500\n",
       "  status: 9\n",
       " success: False\n",
       "       x: array([-9.67086710e-02, -6.86408631e-02, -7.40097174e-02,  8.99881919e+01,\n",
       "       -5.00134002e-02, -5.05503313e-02, -1.63018538e+00, -1.71172929e+00,\n",
       "        4.62632194e+00,  8.94789489e+01,  3.47889111e+00, -5.22308062e+00,\n",
       "       -1.85027846e+00,  2.83964609e+00,  8.42608220e+00,  8.41615478e+01,\n",
       "        1.10234518e-01, -1.66390529e+00, -9.73266014e-01,  1.12799853e+01,\n",
       "        8.52178363e+00,  8.24928967e+01,  1.28799198e+00, -1.59680553e+00,\n",
       "        1.33322505e-01,  1.97922158e+01,  9.83135008e+00,  8.09042024e+01,\n",
       "        2.00000000e+00,  0.00000000e+00])"
      ]
     },
     "execution_count": 44,
     "metadata": {},
     "output_type": "execute_result"
    }
   ],
   "source": [
    "def shape_states(variables):\n",
    "    states = variables[:4]\n",
    "    controls = np.concatenate(([0, 0], variables[4:6]))\n",
    "    controls[0] = states[2] * np.cos(np.radians(states[3]))\n",
    "    controls[1] = states[2] * np.sin(np.radians(states[3]))\n",
    "    return states, controls\n",
    "\n",
    "\n",
    "def formulate_objective(desired_x, desired_y, desired_v, state_weight=0.1, control_weight=0.1, \n",
    "                        constraint_weight=0.1, dstate_weight=0.001):\n",
    "    def objective(params):\n",
    "        cost = 0\n",
    "        cost += control_weight * np.linalg.norm(np.vstack([params[4], params[5]]), ord=2) ** 2\n",
    "        for i in range(6, len(params) - 6, 6):\n",
    "            px, py, v, h, a, w = params[i:i+6]\n",
    "            cost += constraint_weight * np.linalg.norm([px], ord=2) ** 2\n",
    "            cost += control_weight * np.linalg.norm(np.vstack([a, w]), ord=2) ** 2\n",
    "            cost += np.linalg.norm([desired_v - v], ord=2) ** 2\n",
    "        px, py, v, h, a, w = params[-6:]\n",
    "        cost += dstate_weight * np.linalg.norm(np.vstack([desired_x - px, desired_y - py, desired_v - v]), ord=2)\n",
    "        return cost\n",
    "    return objective\n",
    "\n",
    "\n",
    "def formulate_constraints(state0, sim_time, ts=1):\n",
    "    def dynamic_constraints(params):\n",
    "        errors = np.zeros((sim_time,))\n",
    "        states_t, controls_t = shape_states(state0)\n",
    "        errors[0] = np.linalg.norm(params[:4] - states_t, ord=2)\n",
    "        for i in range(6, len(params), 6):    \n",
    "            states_t1, controls_t1 = shape_states(params[i:i+6])\n",
    "            # error[t+1] = norm(x_(t+1) - f(x_t, u_t))\n",
    "            errors[int(i // 6)] = np.linalg.norm(states_t1 - (states_t + ts * controls_t), ord=2)\n",
    "            states_t, controls_t = states_t1, controls_t1\n",
    "\n",
    "        return np.sum(errors)\n",
    "    return dynamic_constraints\n",
    "\n",
    "\n",
    "def formulate_guess(state0, sim_time, random_seed=0, ts=1):\n",
    "    \n",
    "    guess_a = random.randint(guess_range[0], guess_range[1])\n",
    "    guess_w = random.randint(guess_range[0], guess_range[1])\n",
    "    state0_controlled = state0 + [guess_a, guess_w]\n",
    "    init_state = state0_controlled[:]\n",
    "    ix, iy, iv, ih, ia, iw = init_state\n",
    "    \n",
    "    for _ in range(sim_time - 1):\n",
    "        \n",
    "        new_x = ix + ts * iv * np.cos(np.radians(ih))\n",
    "        new_y = iy + ts * iv * np.sin(np.radians(ih))\n",
    "        new_v = iv + ts * ia\n",
    "        new_h = ih + ts * iw\n",
    "        guess_a = random.randint(guess_range[0], guess_range[1])\n",
    "        guess_w = random.randint(guess_range[0], guess_range[1])\n",
    "        init_state += [new_x, new_y, new_v, new_h, guess_a, guess_w]\n",
    "        \n",
    "        ix, iy, iv, ih, ia, iw = new_x, new_y, new_v, new_h, guess_a, guess_w\n",
    "        \n",
    "    return state0_controlled, np.array(init_state)\n",
    "\n",
    "    \n",
    "    \n",
    "state0 = [init_x, init_y, init_velocity, init_heading]\n",
    "state0, init_guess = formulate_guess(state0, sim_time, ts=time_step)\n",
    "\n",
    "con = formulate_constraints(state0, sim_time, ts=time_step)\n",
    "obj = formulate_objective(desired_x, desired_y, desired_velocity, state_weight=10, \n",
    "                          constraint_weight=1, control_weight=0.5, dstate_weight=10)\n",
    "\n",
    "result = opt.minimize(obj, init_guess, method='SLSQP', \n",
    "                      constraints={\"fun\": con, \"type\": \"eq\"},\n",
    "                      options={'eps': 0.1, 'maxiter': 500})\n",
    "result"
   ]
  },
  {
   "cell_type": "code",
   "execution_count": 45,
   "metadata": {},
   "outputs": [
    {
     "name": "stdout",
     "output_type": "stream",
     "text": [
      "errors: [0.00000000e+00 2.75896891e+01 1.86171964e-01 3.98891223e-03\n",
      " 4.60812353e-03] \n",
      "\n",
      "state 1:\n",
      "\tx: -0.09671, y: -0.06864, velocity: -0.07401, heading: 89.98819\n",
      "\tacceleration: -0.05001, angular velocity: -0.05055\n",
      "\n",
      "state 2:\n",
      "\tx: -1.63019, y: -1.71173, velocity: 4.62632, heading: 89.47895\n",
      "\tacceleration: 3.47889, angular velocity: -5.22308\n",
      "\n",
      "state 3:\n",
      "\tx: -1.85028, y: 2.83965, velocity: 8.42608, heading: 84.16155\n",
      "\tacceleration: 0.11023, angular velocity: -1.66391\n",
      "\n",
      "state 4:\n",
      "\tx: -0.97327, y: 11.27999, velocity: 8.52178, heading: 82.4929\n",
      "\tacceleration: 1.28799, angular velocity: -1.59681\n",
      "\n",
      "state 5:\n",
      "\tx: 0.13332, y: 19.79222, velocity: 9.83135, heading: 80.9042\n",
      "\tacceleration: 2.0, angular velocity: 0.0\n",
      "\n"
     ]
    },
    {
     "data": {
      "image/png": "[encoded data removed]",
      "text/plain": [
       "<Figure size 1440x216 with 1 Axes>"
      ]
     },
     "metadata": {
      "needs_background": "light"
     },
     "output_type": "display_data"
    },
    {
     "data": {
      "image/png": "[encoded data removed]",
      "text/plain": [
       "<Figure size 1440x216 with 1 Axes>"
      ]
     },
     "metadata": {
      "needs_background": "light"
     },
     "output_type": "display_data"
    }
   ],
   "source": [
    "def get_controls(variables):\n",
    "    controls = []\n",
    "    for i in range(0, len(variables), 6):\n",
    "        controls.append(variables[i+4])\n",
    "        controls.append(variables[i+5])\n",
    "    return controls\n",
    "\n",
    "### verification for constraints ###\n",
    "\n",
    "def verify_output(state0, params, sim_time, ts=1):\n",
    "    errors = np.zeros((sim_time,))\n",
    "    init_states, init_controls = shape_states(params[:6])\n",
    "    errors[0] = np.linalg.norm(params[:4] - init_states, ord=2) ** 2\n",
    "\n",
    "    for i in range(6, len(params), 6):    \n",
    "        next_states, next_controls = shape_states(params[i:i+6])\n",
    "        errors[int(i // 6)] = np.linalg.norm(next_states - (init_states + ts * init_controls), ord=2) ** 2\n",
    "        init_states, init_controls = next_states, next_controls\n",
    "\n",
    "    return errors\n",
    "\n",
    "print(\"errors:\", verify_output(state0, result.x, sim_time, ts=time_step), \"\\n\")\n",
    "\n",
    "plot_trajectory(init_guess, runway_length=(-500, 500), runway_boundaries=(-30, 30))\n",
    "plot_trajectory(result.x, runway_length=(-500, 500), runway_boundaries=(-30, 30))\n",
    "        \n",
    "print_states(result.x)"
   ]
  },
  {
   "cell_type": "code",
   "execution_count": null,
   "metadata": {},
   "outputs": [],
   "source": []
  }
 ],
 "metadata": {
  "kernelspec": {
   "display_name": "Python 3",
   "language": "python",
   "name": "python3"
  },
  "language_info": {
   "codemirror_mode": {
    "name": "ipython",
    "version": 3
   },
   "file_extension": ".py",
   "mimetype": "text/x-python",
   "name": "python",
   "nbconvert_exporter": "python",
   "pygments_lexer": "ipython3",
   "version": "3.8.2"
  }
 },
 "nbformat": 4,
 "nbformat_minor": 2
}
