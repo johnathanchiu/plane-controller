{
 "cells": [
  {
   "cell_type": "code",
   "execution_count": 1,
   "metadata": {},
   "outputs": [],
   "source": [
    "### dependencies ###\n",
    "# !pip install cvxpy\n",
    "# !pip install mystic"
   ]
  },
  {
   "cell_type": "code",
   "execution_count": 2,
   "metadata": {},
   "outputs": [],
   "source": [
    "%matplotlib inline\n",
    "\n",
    "# import cvxpy as cp\n",
    "import numpy as np\n",
    "\n",
    "import scipy.optimize as opt\n",
    "\n",
    "import random\n",
    "\n",
    "import matplotlib.pyplot as plt\n",
    "import matplotlib.cm as cm"
   ]
  },
  {
   "cell_type": "code",
   "execution_count": 3,
   "metadata": {},
   "outputs": [],
   "source": [
    "# # verify runway plot\n",
    "\n",
    "# t_sim = 10 # seconds\n",
    "\n",
    "# center_line_x = np.zeros((t_sim,))\n",
    "# left_boundary_x = np.ones((t_sim,)) * -10\n",
    "# right_boundary_x = np.ones((t_sim)) * 10\n",
    "\n",
    "# center_line_y = np.linspace(0, t_sim, t_sim)\n",
    "# left_boundary_y = np.linspace(0, t_sim, t_sim)\n",
    "# right_boundary_y = np.linspace(0, t_sim, t_sim)\n",
    "\n",
    "# plt.figure(figsize=(20, 3))\n",
    "# plt.plot(center_line_y, center_line_x, color='gold', linestyle='--')\n",
    "# plt.plot(left_boundary_y, left_boundary_x, color='black')\n",
    "# plt.plot(right_boundary_y, right_boundary_x, color='black')"
   ]
  },
  {
   "cell_type": "code",
   "execution_count": 47,
   "metadata": {},
   "outputs": [],
   "source": [
    "### function to plot trajectory ###\n",
    "\n",
    "# TODO: add rotation matrix for data\n",
    "\n",
    "def plot_trajectory(states, runway_length=(-100, 100), runway_boundaries=(-10, 10)):\n",
    "\n",
    "    center_line_x = np.zeros((runway_length[1] - runway_length[0],))\n",
    "    left_boundary_x = np.ones((runway_length[1] - runway_length[0],)) * runway_boundaries[0]\n",
    "    right_boundary_x = np.ones((runway_length[1] - runway_length[0])) * runway_boundaries[1]\n",
    "\n",
    "    center_line_y = np.linspace(runway_length[0], runway_length[1], runway_length[1] - runway_length[0])\n",
    "    left_boundary_y = np.linspace(runway_length[0], runway_length[1], runway_length[1] - runway_length[0])\n",
    "    right_boundary_y = np.linspace(runway_length[0], runway_length[1], runway_length[1] - runway_length[0])\n",
    "\n",
    "    plt.figure(figsize=(20, 3))\n",
    "    plt.plot(center_line_y, center_line_x, color='gold', linestyle='--')\n",
    "    plt.plot(left_boundary_y, left_boundary_x, color='black')\n",
    "    plt.plot(right_boundary_y, right_boundary_x, color='black')\n",
    "    \n",
    "    colors = cm.rainbow(np.linspace(0, 1, int(len(states)//6)))\n",
    "    for i in range(0, len(states), 6):\n",
    "        x, y, _, h, _, _ = states[i:i+6]\n",
    "        plt.plot(x, y, marker='o', markersize=5, color=colors[int(i//6)])   \n",
    "\n",
    "### print states after getting result ###\n",
    "        \n",
    "def print_states(states):\n",
    "    for i in range(0, len(states), 6):\n",
    "        print(\"state {}:\".format(int(i//6) + 1))\n",
    "        output_states = np.round(states[i:i+6], 5)\n",
    "        print(\"\\tx: {}, y: {}, velocity: {}, heading: {}\\n\\tacceleration: {}, angular velocity: {}\\n\".\\\n",
    "              format(output_states[0], output_states[1], output_states[2], output_states[3], \n",
    "                     output_states[4], output_states[5]))"
   ]
  },
  {
   "cell_type": "markdown",
   "metadata": {},
   "source": [
    "***States and Parameters Setup***"
   ]
  },
  {
   "cell_type": "code",
   "execution_count": 60,
   "metadata": {},
   "outputs": [],
   "source": [
    "### states setup ###\n",
    "\n",
    "init_heading = 90 # degrees\n",
    "init_velocity = 0 # m/s\n",
    "\n",
    "init_acceleration = 0 # m/s^2\n",
    "init_turning = 0 # degrees/s\n",
    "\n",
    "# start here at t = 0\n",
    "init_x = 0\n",
    "init_y = 0\n",
    "\n",
    "# want to end here at t = sim_time\n",
    "desired_x = 0\n",
    "desired_y = 100\n",
    "\n",
    "desired_velocity = 30 # m/s\n",
    "\n",
    "acceleration_constraint = 5 # m/s^2\n",
    "turning_constraint = 5 # degrees\n",
    "\n",
    "time_step = 1\n",
    "sim_time = 10\n",
    "\n",
    "guess_range = (0, 10)"
   ]
  },
  {
   "cell_type": "code",
   "execution_count": 74,
   "metadata": {},
   "outputs": [],
   "source": [
    "### xplane test states setup ###\n",
    "\n",
    "init_heading = 270 + 10 # degrees\n",
    "init_velocity = 0 # m/s\n",
    "\n",
    "init_acceleration = 0 # m/s^2\n",
    "init_turning = 0 # degrees/s\n",
    "\n",
    "# start here at t = 0\n",
    "init_x = 0\n",
    "init_y = 0 \n",
    "\n",
    "# want to end here at t = sim_time\n",
    "desired_x = 100\n",
    "desired_y = -1737\n",
    "\n",
    "desired_velocity = 30 # m/s\n",
    "\n",
    "acceleration_constraint = 5 # m/s^2\n",
    "turning_constraint = 100 # degrees\n",
    "\n",
    "time_step = 1\n",
    "sim_time = 10\n",
    "\n",
    "guess_range = (0, 3)"
   ]
  },
  {
   "cell_type": "markdown",
   "metadata": {},
   "source": [
    "***Controller Optimzed Over Controls***"
   ]
  },
  {
   "cell_type": "code",
   "execution_count": 75,
   "metadata": {},
   "outputs": [
    {
     "data": {
      "text/plain": [
       "     fun: 29207.922634439536\n",
       "     jac: array([-1.02474380e+02,  3.25901055e-04, -8.58312279e+01,  1.82781514e-04,\n",
       "       -6.99450526e+01,  3.22695996e-05, -5.49459059e+01, -1.08811219e-04,\n",
       "       -4.09280585e+01, -1.76864705e-04, -2.79204543e+01,  1.10227847e-04,\n",
       "       -1.59207769e+01,  5.82246503e-04, -4.92476352e+00,  2.83405461e-04,\n",
       "        3.64856533e-05,  3.57260433e-05,  0.00000000e+00,  0.00000000e+00])\n",
       " message: 'Optimization terminated successfully.'\n",
       "    nfev: 223\n",
       "     nit: 10\n",
       "    njev: 10\n",
       "  status: 0\n",
       " success: True\n",
       "       x: array([ 5.00000000e+00, -2.81135796e+00,  5.00000000e+00, -2.27380672e+00,\n",
       "        5.00000000e+00, -1.44084186e+00,  5.00000000e+00, -6.29082285e-01,\n",
       "        5.00000000e+00, -7.81186430e-02,  5.00000000e+00,  1.47844523e-01,\n",
       "        5.00000000e+00,  1.32801262e-01,  5.00000000e+00,  2.30159990e-02,\n",
       "       -6.86610007e-02, -4.96427411e-03,  1.00000000e+00,  1.00000000e+00])"
      ]
     },
     "execution_count": 75,
     "metadata": {},
     "output_type": "execute_result"
    }
   ],
   "source": [
    "def compute_states(init_state, controls, time_step=1):\n",
    "    states = []\n",
    "    x, y, v, h = init_state\n",
    "    for i in range(0, len(controls), 2):\n",
    "        a, w = controls[i:i+2]\n",
    "        states = np.concatenate((states, [x, y, v, h, a, w]))\n",
    "        x += v * time_step * np.cos(np.radians(h))\n",
    "        y += v * time_step * np.sin(np.radians(h))\n",
    "        v += a * time_step\n",
    "        h += w * time_step\n",
    "    return states\n",
    "\n",
    "\n",
    "def rejection_dist(desired_x, desired_y, curr_x, curr_y):\n",
    "    a = np.array([desired_x, desired_y])\n",
    "    b = np.array([curr_x, curr_y])\n",
    "    projection = a@b / np.linalg.norm(a, ord=2)**2 * a\n",
    "    proj_x, proj_y = projection\n",
    "    return np.linalg.norm([curr_x - proj_x, curr_y - proj_y], ord=2) ** 2\n",
    "\n",
    "\n",
    "def formulate_objective(init_states, desired_states, time_step=1, state_weight=0.1, \n",
    "                        control_weight=0.1, constraint_weight=0.1, dstate_weight=0.001):\n",
    "    desired_x, desired_y, desired_v = desired_states\n",
    "    def objective(params):\n",
    "        states = compute_states(init_states, params, time_step=time_step)\n",
    "        cost = control_weight * np.linalg.norm(np.vstack([params[0], params[1]]), ord=2) ** 2\n",
    "        for i in range(6, len(states) - 6, 6):\n",
    "            px, py, v, h, a, w = states[i:i+6]\n",
    "            # closest centerline point\n",
    "            cost += constraint_weight * rejection_dist(desired_x, desired_y, px, py)\n",
    "            cost += control_weight * np.linalg.norm(np.vstack([a, w]), ord=2) ** 2\n",
    "            cost += state_weight * np.linalg.norm(np.vstack([desired_x - px, desired_y - py, desired_v - v]), ord=2)\n",
    "        px, py, v, h, a, w = states[-6:]\n",
    "        cost += dstate_weight * np.linalg.norm(np.vstack([desired_x - px, desired_y - py, desired_v - v]), ord=2)\n",
    "        return cost\n",
    "    return objective\n",
    "\n",
    "\n",
    "def formulate_guess(sim_time, guess_range=(0, 3)):\n",
    "    return np.random.randint(guess_range[0], guess_range[1], size=sim_time*2)\n",
    "    \n",
    "    \n",
    "state0 = [init_x, init_y, init_velocity, init_heading]\n",
    "init_guess = formulate_guess(sim_time, guess_range=guess_range)\n",
    "bounds = [(-acceleration_constraint, acceleration_constraint), \n",
    "          (-turning_constraint, turning_constraint)] * sim_time\n",
    "\n",
    "obj = formulate_objective(state0, [desired_x, desired_y, desired_velocity], time_step=time_step, \n",
    "                          state_weight=1, constraint_weight=1, control_weight=0.5, dstate_weight=10)\n",
    "\n",
    "result = opt.minimize(obj, init_guess, method='SLSQP', bounds=bounds,\n",
    "                      options={'eps': 0.01, 'maxiter': 1000})\n",
    "result"
   ]
  },
  {
   "cell_type": "code",
   "execution_count": 76,
   "metadata": {},
   "outputs": [
    {
     "name": "stdout",
     "output_type": "stream",
     "text": [
      "state 1:\n",
      "\tx: 0.0, y: 0.0, velocity: 0.0, heading: 280.0\n",
      "\tacceleration: 5.0, angular velocity: -2.81136\n",
      "\n",
      "state 2:\n",
      "\tx: 0.0, y: 0.0, velocity: 5.0, heading: 277.18864\n",
      "\tacceleration: 5.0, angular velocity: -2.27381\n",
      "\n",
      "state 3:\n",
      "\tx: 0.62568, y: -4.9607, velocity: 10.0, heading: 274.91484\n",
      "\tacceleration: 5.0, angular velocity: -1.44084\n",
      "\n",
      "state 4:\n",
      "\tx: 1.48243, y: -14.92393, velocity: 15.0, heading: 273.47399\n",
      "\tacceleration: 5.0, angular velocity: -0.62908\n",
      "\n",
      "state 5:\n",
      "\tx: 2.39136, y: -29.89637, velocity: 20.0, heading: 272.84491\n",
      "\tacceleration: 5.0, angular velocity: -0.07812\n",
      "\n",
      "state 6:\n",
      "\tx: 3.38402, y: -49.87172, velocity: 25.0, heading: 272.76679\n",
      "\tacceleration: 5.0, angular velocity: 0.14784\n",
      "\n",
      "state 7:\n",
      "\tx: 4.59079, y: -74.84257, velocity: 30.0, heading: 272.91464\n",
      "\tacceleration: 5.0, angular velocity: 0.1328\n",
      "\n",
      "state 8:\n",
      "\tx: 6.11623, y: -104.80377, velocity: 35.0, heading: 273.04744\n",
      "\tacceleration: 5.0, angular velocity: 0.02302\n",
      "\n",
      "state 9:\n",
      "\tx: 7.97693, y: -139.75427, velocity: 40.0, heading: 273.07045\n",
      "\tacceleration: -0.06866, angular velocity: -0.00496\n",
      "\n",
      "state 10:\n",
      "\tx: 10.11948, y: -179.69685, velocity: 39.93134, heading: 273.06549\n",
      "\tacceleration: 1.0, angular velocity: 1.0\n",
      "\n"
     ]
    },
    {
     "data": {
      "image/png": "[encoded data removed]",
      "text/plain": [
       "<Figure size 1440x216 with 1 Axes>"
      ]
     },
     "metadata": {
      "needs_background": "light"
     },
     "output_type": "display_data"
    },
    {
     "data": {
      "image/png": "[encoded data removed]",
      "text/plain": [
       "<Figure size 1440x216 with 1 Axes>"
      ]
     },
     "metadata": {
      "needs_background": "light"
     },
     "output_type": "display_data"
    }
   ],
   "source": [
    "guess_traj = compute_states(state0, init_guess)\n",
    "solved_traj = compute_states(state0, result.x)\n",
    "\n",
    "plot_trajectory(guess_traj, runway_length=(-500, 500), runway_boundaries=(-30, 30))\n",
    "plot_trajectory(solved_traj, runway_length=(-500, 500), runway_boundaries=(-30, 30))\n",
    " \n",
    "print_states(solved_traj)"
   ]
  },
  {
   "cell_type": "markdown",
   "metadata": {},
   "source": [
    "***Controller Optimized Over States***"
   ]
  },
  {
   "cell_type": "code",
   "execution_count": 32,
   "metadata": {},
   "outputs": [
    {
     "data": {
      "text/plain": [
       "     fun: 2059.9478441191254\n",
       "     jac: array([  0.        ,   0.        ,   0.        ,   0.        ,\n",
       "        -1.79830763,  -7.89644832,  -0.82776974,   0.        ,\n",
       "       -53.57310098,   0.        ,  12.48209125,  -5.28944934,\n",
       "        -1.75949195,   0.        , -28.69540605,   0.        ,\n",
       "         3.90230615,  -4.51516693,  -4.2609952 ,   0.        ,\n",
       "       -20.89617689,   0.        ,  -1.49039824,  -1.20846253,\n",
       "        -4.26130911,   0.        , -23.91121595,   0.        ,\n",
       "         3.66690299,  -0.20591489,  -3.60079313,   0.        ,\n",
       "       -16.76677906,   0.        ,  -0.08670274,  -1.38935555,\n",
       "        -2.60664365,   0.        , -16.93441857,   0.        ,\n",
       "         0.61197785,  -3.00552451,  -0.63924566,   0.        ,\n",
       "       -15.70414751,   0.        ,   0.49725112,  -2.74991147,\n",
       "         3.69093254,   0.        , -14.74480706,   0.        ,\n",
       "        -0.93455925,   0.64932516,   1.1618298 ,   9.75618014,\n",
       "        -1.86190533,   0.        ,   0.        ,   0.        ])\n",
       " message: 'Iteration limit exceeded'\n",
       "    nfev: 71261\n",
       "     nit: 1001\n",
       "    njev: 1001\n",
       "  status: 9\n",
       " success: False\n",
       "       x: array([-3.77739425e-02,  2.15797003e-02, -2.06676545e-02,  9.00294970e+01,\n",
       "       -1.80330763e+00, -7.90144832e+00, -4.18884872e-01, -2.89252046e-01,\n",
       "        3.20844951e+00,  9.99030576e+01,  1.24770913e+01, -5.29444934e+00,\n",
       "       -8.84745976e-01,  2.82345378e+00,  1.56472970e+01,  9.45948394e+01,\n",
       "        3.89730615e+00, -4.52016693e+00, -2.13549760e+00,  1.84245632e+01,\n",
       "        1.95469116e+01,  9.00773593e+01, -1.49539824e+00, -1.21346253e+00,\n",
       "       -2.13565455e+00,  3.79731985e+01,  1.80393920e+01,  8.88618064e+01,\n",
       "        3.66190299e+00, -2.10914887e-01, -1.80539656e+00,  5.59425416e+01,\n",
       "        2.16116105e+01,  8.86611056e+01, -9.17027437e-02, -1.39435555e+00,\n",
       "       -1.30832183e+00,  7.75513637e+01,  2.15277907e+01,  8.72623608e+01,\n",
       "        6.06977848e-01, -3.01052451e+00, -3.24622831e-01,  9.90575035e+01,\n",
       "        2.21429262e+01,  8.42324652e+01,  4.92251124e-01, -2.75491147e+00,\n",
       "        1.84046627e+00,  1.21096091e+02,  2.26225965e+01,  8.14615544e+01,\n",
       "       -9.39559248e-01,  6.44325164e-01,  5.17270448e+00,  1.43477693e+02,\n",
       "        2.16976844e+01,  8.21224505e+01,  2.00000000e+00,  3.00000000e+00])"
      ]
     },
     "execution_count": 32,
     "metadata": {},
     "output_type": "execute_result"
    }
   ],
   "source": [
    "def shape_states(variables):\n",
    "    states = variables[:4]\n",
    "    controls = np.concatenate(([0, 0], variables[4:6]))\n",
    "    controls[0] = states[2] * np.cos(np.radians(states[3]))\n",
    "    controls[1] = states[2] * np.sin(np.radians(states[3]))\n",
    "    return states, controls\n",
    "\n",
    "\n",
    "def formulate_objective(desired_x, desired_y, desired_v, state_weight=0.1, control_weight=0.1, \n",
    "                        constraint_weight=0.1, dstate_weight=0.001):\n",
    "    def objective(params):\n",
    "        cost = 0\n",
    "        cost += control_weight * np.linalg.norm(np.vstack([params[4], params[5]]), ord=2) ** 2\n",
    "        for i in range(6, len(params) - 6, 6):\n",
    "            px, py, v, h, a, w = params[i:i+6]\n",
    "            cost += constraint_weight * np.linalg.norm([px], ord=2) ** 2\n",
    "            cost += control_weight * np.linalg.norm(np.vstack([a, w]), ord=2) ** 2\n",
    "            cost += np.linalg.norm([desired_v - v], ord=2) ** 2\n",
    "        px, py, v, h, a, w = params[-6:]\n",
    "        cost += dstate_weight * np.linalg.norm(np.vstack([desired_x - px, desired_y - py, desired_v - v]), ord=2)\n",
    "        return cost\n",
    "    return objective\n",
    "\n",
    "\n",
    "def formulate_constraints(state0, sim_time, ts=1):\n",
    "    def dynamic_constraints(params):\n",
    "        errors = np.zeros((sim_time,))\n",
    "        states_t, controls_t = shape_states(state0)\n",
    "        errors[0] = np.linalg.norm(params[:4] - states_t, ord=2)\n",
    "        for i in range(6, len(params), 6):    \n",
    "            states_t1, controls_t1 = shape_states(params[i:i+6])\n",
    "            # error[t+1] = norm(x_(t+1) - f(x_t, u_t))\n",
    "            errors[int(i // 6)] = np.linalg.norm(states_t1 - (states_t + ts * controls_t), ord=2)\n",
    "            states_t, controls_t = states_t1, controls_t1\n",
    "\n",
    "        return np.sum(errors)\n",
    "    return dynamic_constraints\n",
    "\n",
    "\n",
    "def formulate_guess(state0, sim_time, random_seed=0, ts=1):\n",
    "    \n",
    "    guess_a = random.randint(guess_range[0], guess_range[1])\n",
    "    guess_w = random.randint(guess_range[0], guess_range[1])\n",
    "    state0_controlled = state0 + [guess_a, guess_w]\n",
    "    init_state = state0_controlled[:]\n",
    "    ix, iy, iv, ih, ia, iw = init_state\n",
    "    \n",
    "    for _ in range(sim_time - 1):\n",
    "        \n",
    "        new_x = ix + ts * iv * np.cos(np.radians(ih))\n",
    "        new_y = iy + ts * iv * np.sin(np.radians(ih))\n",
    "        new_v = iv + ts * ia\n",
    "        new_h = ih + ts * iw\n",
    "        guess_a = random.randint(guess_range[0], guess_range[1])\n",
    "        guess_w = random.randint(guess_range[0], guess_range[1])\n",
    "        init_state += [new_x, new_y, new_v, new_h, guess_a, guess_w]\n",
    "        \n",
    "        ix, iy, iv, ih, ia, iw = new_x, new_y, new_v, new_h, guess_a, guess_w\n",
    "        \n",
    "    return state0_controlled, np.array(init_state)\n",
    "\n",
    "    \n",
    "    \n",
    "state0 = [init_x, init_y, init_velocity, init_heading]\n",
    "state0, init_guess = formulate_guess(state0, sim_time, ts=time_step)\n",
    "\n",
    "con = formulate_constraints(state0, sim_time, ts=time_step)\n",
    "obj = formulate_objective(desired_x, desired_y, desired_velocity, state_weight=10, \n",
    "                          constraint_weight=1, control_weight=0.5, dstate_weight=10)\n",
    "\n",
    "result = opt.minimize(obj, init_guess, method='SLSQP', \n",
    "                      constraints={\"fun\": con, \"type\": \"eq\"},\n",
    "                      options={'eps': 0.01, 'maxiter': 1000})\n",
    "result"
   ]
  },
  {
   "cell_type": "code",
   "execution_count": 39,
   "metadata": {},
   "outputs": [
    {
     "name": "stdout",
     "output_type": "stream",
     "text": [
      "errors: [0.00000000e+00 3.41505692e+02 1.13347995e-02 3.68769359e-05\n",
      " 8.42592693e-04 1.33567188e-02 1.53532837e-04 2.43278896e-03\n",
      " 4.08759551e-03 1.29200452e-03] \n",
      "\n",
      "state 1:\n",
      "\tx: -0.03777, y: 0.02158, velocity: -0.02067, heading: 90.0295\n",
      "\tacceleration: -1.80331, angular velocity: -7.90145\n",
      "\n",
      "state 2:\n",
      "\tx: -0.41888, y: -0.28925, velocity: 3.20845, heading: 99.90306\n",
      "\tacceleration: 12.47709, angular velocity: -5.29445\n",
      "\n",
      "state 3:\n",
      "\tx: -0.88475, y: 2.82345, velocity: 15.6473, heading: 94.59484\n",
      "\tacceleration: 3.89731, angular velocity: -4.52017\n",
      "\n",
      "state 4:\n",
      "\tx: -2.1355, y: 18.42456, velocity: 19.54691, heading: 90.07736\n",
      "\tacceleration: -1.4954, angular velocity: -1.21346\n",
      "\n",
      "state 5:\n",
      "\tx: -2.13565, y: 37.9732, velocity: 18.03939, heading: 88.86181\n",
      "\tacceleration: 3.6619, angular velocity: -0.21091\n",
      "\n",
      "state 6:\n",
      "\tx: -1.8054, y: 55.94254, velocity: 21.61161, heading: 88.66111\n",
      "\tacceleration: -0.0917, angular velocity: -1.39436\n",
      "\n",
      "state 7:\n",
      "\tx: -1.30832, y: 77.55136, velocity: 21.52779, heading: 87.26236\n",
      "\tacceleration: 0.60698, angular velocity: -3.01052\n",
      "\n",
      "state 8:\n",
      "\tx: -0.32462, y: 99.0575, velocity: 22.14293, heading: 84.23247\n",
      "\tacceleration: 0.49225, angular velocity: -2.75491\n",
      "\n",
      "state 9:\n",
      "\tx: 1.84047, y: 121.09609, velocity: 22.6226, heading: 81.46155\n",
      "\tacceleration: -0.93956, angular velocity: 0.64433\n",
      "\n",
      "state 10:\n",
      "\tx: 5.1727, y: 143.47769, velocity: 21.69768, heading: 82.12245\n",
      "\tacceleration: 2.0, angular velocity: 3.0\n",
      "\n"
     ]
    },
    {
     "data": {
      "image/png": "[encoded data removed]",
      "text/plain": [
       "<Figure size 1440x216 with 1 Axes>"
      ]
     },
     "metadata": {
      "needs_background": "light"
     },
     "output_type": "display_data"
    },
    {
     "data": {
      "image/png": "[encoded data removed]",
      "text/plain": [
       "<Figure size 1440x216 with 1 Axes>"
      ]
     },
     "metadata": {
      "needs_background": "light"
     },
     "output_type": "display_data"
    }
   ],
   "source": [
    "def get_controls(variables):\n",
    "    controls = []\n",
    "    for i in range(0, len(variables), 6):\n",
    "        controls.append(variables[i+4])\n",
    "        controls.append(variables[i+5])\n",
    "    return controls\n",
    "\n",
    "### verification for constraints ###\n",
    "\n",
    "def verify_output(state0, params, sim_time, ts=1):\n",
    "    errors = np.zeros((sim_time,))\n",
    "    init_states, init_controls = shape_states(params[:6])\n",
    "    errors[0] = np.linalg.norm(params[:4] - init_states, ord=2) ** 2\n",
    "\n",
    "    for i in range(6, len(params), 6):    \n",
    "        next_states, next_controls = shape_states(params[i:i+6])\n",
    "        errors[int(i // 6)] = np.linalg.norm(next_states - (init_states + ts * init_controls), ord=2) ** 2\n",
    "        init_states, init_controls = next_states, next_controls\n",
    "\n",
    "    return errors\n",
    "\n",
    "print(\"errors:\", verify_output(state0, result.x, sim_time, ts=time_step), \"\\n\")\n",
    "\n",
    "plot_trajectory(init_guess, runway_length=(-500, 500), runway_boundaries=(-30, 30))\n",
    "plot_trajectory(result.x, runway_length=(-500, 500), runway_boundaries=(-30, 30))\n",
    "        \n",
    "print_states(result.x)"
   ]
  },
  {
   "cell_type": "code",
   "execution_count": null,
   "metadata": {},
   "outputs": [],
   "source": []
  }
 ],
 "metadata": {
  "kernelspec": {
   "display_name": "Python 3",
   "language": "python",
   "name": "python3"
  },
  "language_info": {
   "codemirror_mode": {
    "name": "ipython",
    "version": 3
   },
   "file_extension": ".py",
   "mimetype": "text/x-python",
   "name": "python",
   "nbconvert_exporter": "python",
   "pygments_lexer": "ipython3",
   "version": "3.8.2"
  }
 },
 "nbformat": 4,
 "nbformat_minor": 2
}
