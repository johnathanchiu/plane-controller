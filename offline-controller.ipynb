{
 "cells": [
  {
   "cell_type": "code",
   "execution_count": 1,
   "metadata": {},
   "outputs": [],
   "source": [
    "%matplotlib inline\n",
    "\n",
    "# import cvxpy as cp\n",
    "import numpy as np\n",
    "\n",
    "import scipy.optimize as opt\n",
    "\n",
    "import random\n",
    "\n",
    "import matplotlib.pyplot as plt\n",
    "import matplotlib.cm as cm"
   ]
  },
  {
   "cell_type": "code",
   "execution_count": 79,
   "metadata": {},
   "outputs": [],
   "source": [
    "def rotate(x, y, angle):\n",
    "    return [x * np.cos(np.radians(angle)) - y * np.sin(np.radians(angle)), \n",
    "            x * np.sin(np.radians(angle)) + y * np.cos(np.radians(angle))]"
   ]
  },
  {
   "cell_type": "markdown",
   "metadata": {},
   "source": [
    "***States Setup***"
   ]
  },
  {
   "cell_type": "code",
   "execution_count": 115,
   "metadata": {},
   "outputs": [],
   "source": [
    "# runway config\n",
    "\n",
    "zero_heading = 270\n",
    "\n",
    "runway_end_x = 2421 \n",
    "runway_end_y = -1737\n",
    "\n",
    "runway_start_x = 0\n",
    "runway_start_y = 0\n",
    "\n",
    "runway_heading = 54.331\n",
    "\n",
    "runway_width = 100\n",
    "runway_extend_length = 50\n",
    "\n",
    "# sampling config\n",
    "\n",
    "ws_bound = 5\n",
    "wh_bound = 30"
   ]
  },
  {
   "cell_type": "markdown",
   "metadata": {},
   "source": [
    "***Rotate Runway to Zero Heading***"
   ]
  },
  {
   "cell_type": "code",
   "execution_count": 116,
   "metadata": {},
   "outputs": [
    {
     "data": {
      "text/plain": [
       "((-50, -100), (2979, 100))"
      ]
     },
     "execution_count": 116,
     "metadata": {},
     "output_type": "execute_result"
    }
   ],
   "source": [
    "ex, ey = rotate(runway_end_x, runway_end_y, -(runway_heading + zero_heading - 360))\n",
    "sx, sy = rotate(runway_start_x, runway_start_y, -(runway_heading + zero_heading - 360))\n",
    "ex, ey, sx, sy = int(np.floor(ex)), int(np.floor(ey)), int(np.floor(sx)), int(np.floor(sy))\n",
    "\n",
    "sx -= runway_extend_length\n",
    "\n",
    "runway_llx, runway_lly = sx, sy - runway_width\n",
    "runway_urx, runway_ury = ex, ey + runway_width\n",
    "\n",
    "(runway_llx, runway_lly), (runway_urx, runway_ury)"
   ]
  },
  {
   "cell_type": "markdown",
   "metadata": {},
   "source": [
    "***Discretize Runway & Apply Rotation Back***"
   ]
  },
  {
   "cell_type": "code",
   "execution_count": 114,
   "metadata": {},
   "outputs": [],
   "source": [
    "def sample_environments(real_ws, real_wh, speed_bounds, heading_bounds, num_samples):\n",
    "    env = [(real_ws, real_wh + zero_heading)]\n",
    "    for _ in range(num_samples):\n",
    "        env.append((np.random.randint(real_ws - speed_bounds, real_ws + speed_bounds + 1),\n",
    "                   np.random.randint(real_wh - heading_bounds, real_wh + heading_bounds + 1) + zero_heading))\n",
    "    return env\n",
    "\n",
    "\n",
    "def generate_control_lookup(runway_x, runway_y, velocity_bins=(0, 100, 2), wind_speed=(0, 10, 1), \n",
    "                            wind_heading=(-40, 40, 5), box_dim=(10, 10)):\n",
    "    runway_bot, runway_top = runway_y\n",
    "    stride_x, stride_y = box_dim\n",
    "\n",
    "    assert runway_right > runway_left, \"right side of runway must be numerically greater than left side\"\n",
    "    assert runway_top > runway_bot, \"top side of runway must be numerically greater than bottom side\"\n",
    "    \n",
    "    leftover_x = stride_x - (runway_right - runway_left) % stride_x\n",
    "    leftover_y = stride_y - (runway_top - runway_bot) % stride_y\n",
    "\n",
    "    grid_search = {}\n",
    "    lookup_table = {}\n",
    "    grid_no = 0\n",
    "    \n",
    "    for i in range(runway_left, runway_right + leftover_x, stride_x):\n",
    "        for j in range(runway_bot, runway_top + leftover_y, stride_y):\n",
    "            center_x, center_y = i + stride_x / 2, j + stride_y / 2\n",
    "            local_controls = {}\n",
    "            # ITERATE THROUGH ALL COMBINATIONS OF INIT VELOCITY, INIT HEADING, WINDSPEEDS, WINDHEADINGS\n",
    "            for h in range(0, 360):\n",
    "                for v in range(velocity_bins[0], velocity_bins[1], velocity_bins[2]):\n",
    "                    for ws in range(wind_speed[0], wind_speed[1], wind_speed[2]):\n",
    "                        for wh in range(wind_heading[0], wind_heading[1], wind_heading[2]):\n",
    "                            state0 = [center_x, center_y, v, h]\n",
    "                            sample_environments()\n",
    "                            # call solver here!\n",
    "                            controls, _, _ = solve_states(new_init_states, desired_states, winds, plane_specs, acceleration_constraint,\n",
    "                                  turning_constraint, time_step=time_step, sim_time=num_steps)\n",
    "                            local_controls[(v, h, ws, wh)] = controls\n",
    "            lookup_table[grid_no] = local_controls\n",
    "            # GENERATE GRID POINTS LOOK UP\n",
    "            for k in range(stride_x):\n",
    "                for l in range(stride_y):\n",
    "                    grid_search[(i + k, j + l)] = grid_no\n",
    "            grid_no += 1\n",
    "            \n",
    "    return grid_search, lookup_table\n",
    "\n",
    "\n",
    "\n",
    "    \n",
    "    \n",
    "grid_labels, control_table = discretize((runway_llx, runway_urx), (runway_lly, runway_ury), \n",
    "                                        box_dim=(5, 5))"
   ]
  },
  {
   "cell_type": "markdown",
   "metadata": {},
   "source": []
  },
  {
   "cell_type": "code",
   "execution_count": null,
   "metadata": {},
   "outputs": [],
   "source": [
    "def rotate_centers():\n",
    "    \n",
    "    "
   ]
  },
  {
   "cell_type": "markdown",
   "metadata": {},
   "source": [
    "***Rotate All Points Back***"
   ]
  },
  {
   "cell_type": "code",
   "execution_count": 87,
   "metadata": {},
   "outputs": [],
   "source": [
    "# get bottom left & upper right coordinates\n",
    "\n",
    "# runway_llx, runway_lly = rotate(sx, sy + runway_width, (runway_heading + zero_heading - 360))\n",
    "# runway_urx, runway_ury = rotate(ex, ey - runway_width, (runway_heading + zero_heading - 360))\n",
    "# runway_lrx, runway_lry = rotate(sx, sy - runway_width, (runway_heading + zero_heading - 360))\n",
    "# runway_ulx, runway_uly = rotate(ex, ey + runway_width, (runway_heading + zero_heading - 360))"
   ]
  },
  {
   "cell_type": "code",
   "execution_count": null,
   "metadata": {},
   "outputs": [],
   "source": []
  }
 ],
 "metadata": {
  "kernelspec": {
   "display_name": "Python 3",
   "language": "python",
   "name": "python3"
  },
  "language_info": {
   "codemirror_mode": {
    "name": "ipython",
    "version": 3
   },
   "file_extension": ".py",
   "mimetype": "text/x-python",
   "name": "python",
   "nbconvert_exporter": "python",
   "pygments_lexer": "ipython3",
   "version": "3.7.3"
  }
 },
 "nbformat": 4,
 "nbformat_minor": 4
}
